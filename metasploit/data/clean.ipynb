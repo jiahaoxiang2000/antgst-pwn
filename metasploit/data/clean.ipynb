{
 "cells": [
  {
   "cell_type": "markdown",
   "metadata": {},
   "source": [
    "## Log info"
   ]
  },
  {
   "cell_type": "code",
   "execution_count": 2,
   "metadata": {},
   "outputs": [
    {
     "name": "stdout",
     "output_type": "stream",
     "text": [
      "Log cleaning completed. Output saved to log_clean.json\n"
     ]
    }
   ],
   "source": [
    "#  \"records\": [\n",
    "# {\n",
    "#     \"logType\": 1,\n",
    "#     \"method\": null,\n",
    "#     \"logContent\": \"用户名: KUAITEAM_91,退出成功！\",\n",
    "#     \"requestParam\": null,\n",
    "#     \"logType_dictText\": \"登录日志\",\n",
    "#     \"token\": \"\",\n",
    "#     \"requestUrl\": null,\n",
    "#     \"id\": \"00001078d7c4ca1fbe747b13c7e28aea\",\n",
    "#     \"username\": null,\n",
    "#     \"operateType_dictText\": null\n",
    "# },\n",
    "\n",
    "# here the log.json is {\"records\": [***]}, i this need the above json format, so filter the records to log_clean.json\n",
    "\n",
    "import json\n",
    "import os\n",
    "\n",
    "\n",
    "def clean_log():\n",
    "    # Read input JSON\n",
    "    with open(\"log.json\", \"r\", encoding=\"utf-8\") as f:\n",
    "        data = json.load(f)\n",
    "\n",
    "    # Get records array\n",
    "    records = data.get(\"records\", [])\n",
    "\n",
    "    # filter the records, that some key we need, some key we don't need\n",
    "\n",
    "    #     \"logType\": 1,\n",
    "    #     \"method\": null,\n",
    "    #     \"logContent\": \"用户名: KUAITEAM_91,退出成功！\",\n",
    "    #     \"requestParam\": null,\n",
    "    #     \"logType_dictText\": \"登录日志\",\n",
    "    #     \"token\": \"\",\n",
    "    #     \"requestUrl\": null,\n",
    "    #     \"id\": \"00001078d7c4ca1fbe747b13c7e28aea\",\n",
    "    #     \"username\": null,\n",
    "    #     \"operateType_dictText\": null\n",
    "\n",
    "    # above key we need, so filter the records\n",
    "\n",
    "    records = [\n",
    "        {\n",
    "            \"logType\": record.get(\"logType\"),\n",
    "            \"logContent\": record.get(\"logContent\"),\n",
    "            \"logType_dictText\": record.get(\"logType_dictText\"),\n",
    "            \"id\": record.get(\"id\"),\n",
    "            \"requestParam\": record.get(\"requestParam\"),\n",
    "            \"requestUrl\": record.get(\"requestUrl\"),\n",
    "            \"operateType_dictText\": record.get(\"operateType_dictText\"),\n",
    "            \"token\": record.get(\"token\"),\n",
    "            \"method\": record.get(\"method\"),\n",
    "            \"username\": record.get(\"username\"),\n",
    "        }\n",
    "        for record in records\n",
    "    ]\n",
    "\n",
    "    # Write cleaned output\n",
    "    with open(\"log_clean.json\", \"w\", encoding=\"utf-8\") as f:\n",
    "        json.dump({\"records\": records}, f, ensure_ascii=False, indent=2)\n",
    "\n",
    "\n",
    "if __name__ == \"__main__\":\n",
    "    try:\n",
    "        clean_log()\n",
    "        print(\"Log cleaning completed. Output saved to log_clean.json\")\n",
    "    except Exception as e:\n",
    "        print(f\"Error: {e}\")"
   ]
  },
  {
   "cell_type": "markdown",
   "metadata": {},
   "source": [
    "# "
   ]
  }
 ],
 "metadata": {
  "kernelspec": {
   "display_name": ".venv",
   "language": "python",
   "name": "python3"
  },
  "language_info": {
   "codemirror_mode": {
    "name": "ipython",
    "version": 3
   },
   "file_extension": ".py",
   "mimetype": "text/x-python",
   "name": "python",
   "nbconvert_exporter": "python",
   "pygments_lexer": "ipython3",
   "version": "3.11.9"
  }
 },
 "nbformat": 4,
 "nbformat_minor": 2
}
