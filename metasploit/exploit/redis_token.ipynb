{
 "cells": [
  {
   "cell_type": "markdown",
   "metadata": {},
   "source": [
    "## token reference logic\n",
    "\n",
    "the resource code [link](https://github.com/jeecgboot/JeecgBoot/blob/v2.0.2/jeecg-boot/jeecg-boot-module-system/src/main/java/org/jeecg/modules/shiro/authc/ShiroRealm.java#L129-L161)\n",
    "\n",
    "- we can see the token refresh login, if the token is not expired, than the token expired time will be updated (default expired time is 30 mins). NOTE: this mean we can keep refreshing the token to keep it alive.\n",
    "\n",
    "the `https://web.antgst.com/antgst/sys/user/isCommonUser` for keep live more greater, more like the normal user behavior."
   ]
  },
  {
   "cell_type": "markdown",
   "metadata": {},
   "source": [
    "## token remove logic when logout\n",
    "\n",
    "the resource code [link](https://github.com/jeecgboot/JeecgBoot/blob/v2.0.2/jeecg-boot/jeecg-boot-module-system/src/main/java/org/jeecg/modules/system/controller/LoginController.java#L103-L119)\n",
    "\n",
    "the user logout will remove the token from the cache, so the token will be invalid. So if want to steady the token, we need the one user, which we can control the login and logout."
   ]
  }
 ],
 "metadata": {
  "kernelspec": {
   "display_name": ".venv",
   "language": "python",
   "name": "python3"
  },
  "language_info": {
   "name": "python",
   "version": "3.11.9"
  }
 },
 "nbformat": 4,
 "nbformat_minor": 2
}
